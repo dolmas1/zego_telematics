{
 "cells": [
  {
   "cell_type": "markdown",
   "metadata": {},
   "source": [
    "## Zego Data Science Telematics Technical Test\n",
    "### Samuel Dolman, August 16th 2021"
   ]
  },
  {
   "cell_type": "code",
   "execution_count": 14,
   "metadata": {},
   "outputs": [],
   "source": [
    "import pandas as pd\n",
    "import numpy as np\n",
    "import os\n",
    "\n",
    "from xgboost import XGBClassifier\n",
    "from sklearn.model_selection import train_test_split\n",
    "from sklearn.metrics import accuracy_score, auc"
   ]
  },
  {
   "cell_type": "markdown",
   "metadata": {},
   "source": [
    "## Overview of Approach\n",
    "\n",
    "* 37 trips are available - we will take **one observation for each labelled trip**\n",
    "* an alternative would be to split each trip into e.g. minute long segments / 'sub-trips', and apply the same label to every sub-trip.\n",
    "    * rejected this approach due to time constraints (if more time allowed, it would very likely be superior)\n",
    "    * potential advantage: many more observations for training / test (although need to be careful to keep sub-trips from the same trip within the same validation split, to avoid leakage) - allows use of more powerful algorithms\n",
    "    * potential disadvantage: no guarantee 'true' trip labels are consistent across entire trip - e.g. customer may walk first 2 minutes to the vehicle, then drive the remainder \n",
    "    * potential disadvantage: many sub-trips would not contain 'pulling away' and 'braking to a stop' manouvers - likely that these manuevers are important for achieving good classification accuracy\n",
    "* binary classification task with a small/moderate amount of class imbalance - **AUC** should be a good choice of performance metric (alternatives could be Accuracy / F1 Score, etc)\n",
    "* ideal validation approach would be fixed **train / validate / test** sets, however not enough trips to do this robustly. So, all results are presented as **mean out-of-fold AUC using stratified 4-fold CV** (with only four folds, can guarantee at least two of the minority class appear in each fold)\n",
    "* algorithm of choice will be a simple **logistic regression** (with **L1 and L2 elastic-net** penalties to minimise overfitting)\n",
    "    * I would definitely prefer xgboost/lgbm/catboost classifier (or even just random forest), but decision to take one observation per trip is severely limiting\n",
    "    * 1D Convolutional Neural Network - have seen these used succesfully so would investigate further if given time\n",
    "    * ARIMA - often used for time domain problems so worth investigating. However I suspect they may not perform well - usually more useful for projection/extrapolation tasks rather than classificatiopn\n",
    "* feature engineering*:\n",
    "    * statistical\n",
    "    * time based\n",
    "    * spectral - split into segments, apply fourier transform to generate spectral, avg over all segments\n",
    "\n",
    "\n",
    "\n",
    "\n",
    "\n",
    "\\* Note that the feature engineering approach was partly inspired by two papers:\n",
    "\n",
    "    Samuli Hemminki - https://www.cs.helsinki.fi/u/shemmink/Transportation/hemminki13transportation.pdf\n",
    "    \n",
    "    Nguyen, Linh Vuong - https://dspace.mit.edu/handle/1721.1/120606"
   ]
  },
  {
   "cell_type": "code",
   "execution_count": 8,
   "metadata": {},
   "outputs": [
    {
     "data": {
      "text/plain": [
       "'D:\\\\Data_Science\\\\Projects\\\\zego_telematics'"
      ]
     },
     "execution_count": 8,
     "metadata": {},
     "output_type": "execute_result"
    }
   ],
   "source": [
    "\n",
    "os.getcwd()"
   ]
  },
  {
   "cell_type": "markdown",
   "metadata": {},
   "source": [
    "## Load Data"
   ]
  },
  {
   "cell_type": "code",
   "execution_count": 9,
   "metadata": {},
   "outputs": [],
   "source": [
    "data_location = 'data'\n",
    "trip_location = 'data/trips'"
   ]
  },
  {
   "cell_type": "code",
   "execution_count": 27,
   "metadata": {},
   "outputs": [],
   "source": [
    "trip_classes = pd.read_csv(os.path.join(data_location, 'trip_classes.csv'))\n",
    "\n",
    "trips = {row['trip_id']: pd.read_csv(os.path.join(trip_location, row['trip_data'])) for index, row in trip_classes.iterrows()}"
   ]
  },
  {
   "cell_type": "code",
   "execution_count": 23,
   "metadata": {},
   "outputs": [
    {
     "data": {
      "text/html": [
       "<div>\n",
       "<style scoped>\n",
       "    .dataframe tbody tr th:only-of-type {\n",
       "        vertical-align: middle;\n",
       "    }\n",
       "\n",
       "    .dataframe tbody tr th {\n",
       "        vertical-align: top;\n",
       "    }\n",
       "\n",
       "    .dataframe thead th {\n",
       "        text-align: right;\n",
       "    }\n",
       "</style>\n",
       "<table border=\"1\" class=\"dataframe\">\n",
       "  <thead>\n",
       "    <tr style=\"text-align: right;\">\n",
       "      <th></th>\n",
       "      <th>trip_type</th>\n",
       "      <th>trip_id</th>\n",
       "      <th>trip_data</th>\n",
       "    </tr>\n",
       "  </thead>\n",
       "  <tbody>\n",
       "    <tr>\n",
       "      <th>0</th>\n",
       "      <td>car</td>\n",
       "      <td>0</td>\n",
       "      <td>trip_0.csv</td>\n",
       "    </tr>\n",
       "    <tr>\n",
       "      <th>1</th>\n",
       "      <td>walk_bicycle_still</td>\n",
       "      <td>1</td>\n",
       "      <td>trip_1.csv</td>\n",
       "    </tr>\n",
       "    <tr>\n",
       "      <th>2</th>\n",
       "      <td>car</td>\n",
       "      <td>2</td>\n",
       "      <td>trip_2.csv</td>\n",
       "    </tr>\n",
       "    <tr>\n",
       "      <th>3</th>\n",
       "      <td>car</td>\n",
       "      <td>3</td>\n",
       "      <td>trip_3.csv</td>\n",
       "    </tr>\n",
       "    <tr>\n",
       "      <th>4</th>\n",
       "      <td>car</td>\n",
       "      <td>4</td>\n",
       "      <td>trip_4.csv</td>\n",
       "    </tr>\n",
       "  </tbody>\n",
       "</table>\n",
       "</div>"
      ],
      "text/plain": [
       "            trip_type  trip_id   trip_data\n",
       "0                 car        0  trip_0.csv\n",
       "1  walk_bicycle_still        1  trip_1.csv\n",
       "2                 car        2  trip_2.csv\n",
       "3                 car        3  trip_3.csv\n",
       "4                 car        4  trip_4.csv"
      ]
     },
     "execution_count": 23,
     "metadata": {},
     "output_type": "execute_result"
    }
   ],
   "source": [
    "trip_classes.head()"
   ]
  },
  {
   "cell_type": "code",
   "execution_count": null,
   "metadata": {},
   "outputs": [],
   "source": [
    "trips"
   ]
  },
  {
   "cell_type": "code",
   "execution_count": 29,
   "metadata": {},
   "outputs": [
    {
     "data": {
      "text/html": [
       "<div>\n",
       "<style scoped>\n",
       "    .dataframe tbody tr th:only-of-type {\n",
       "        vertical-align: middle;\n",
       "    }\n",
       "\n",
       "    .dataframe tbody tr th {\n",
       "        vertical-align: top;\n",
       "    }\n",
       "\n",
       "    .dataframe thead th {\n",
       "        text-align: right;\n",
       "    }\n",
       "</style>\n",
       "<table border=\"1\" class=\"dataframe\">\n",
       "  <thead>\n",
       "    <tr style=\"text-align: right;\">\n",
       "      <th></th>\n",
       "      <th>trip_type</th>\n",
       "      <th>trip_id</th>\n",
       "      <th>trip_data</th>\n",
       "    </tr>\n",
       "  </thead>\n",
       "  <tbody>\n",
       "    <tr>\n",
       "      <th>0</th>\n",
       "      <td>car</td>\n",
       "      <td>0</td>\n",
       "      <td>trip_0.csv</td>\n",
       "    </tr>\n",
       "    <tr>\n",
       "      <th>1</th>\n",
       "      <td>walk_bicycle_still</td>\n",
       "      <td>1</td>\n",
       "      <td>trip_1.csv</td>\n",
       "    </tr>\n",
       "    <tr>\n",
       "      <th>2</th>\n",
       "      <td>car</td>\n",
       "      <td>2</td>\n",
       "      <td>trip_2.csv</td>\n",
       "    </tr>\n",
       "    <tr>\n",
       "      <th>3</th>\n",
       "      <td>car</td>\n",
       "      <td>3</td>\n",
       "      <td>trip_3.csv</td>\n",
       "    </tr>\n",
       "    <tr>\n",
       "      <th>4</th>\n",
       "      <td>car</td>\n",
       "      <td>4</td>\n",
       "      <td>trip_4.csv</td>\n",
       "    </tr>\n",
       "  </tbody>\n",
       "</table>\n",
       "</div>"
      ],
      "text/plain": [
       "            trip_type  trip_id   trip_data\n",
       "0                 car        0  trip_0.csv\n",
       "1  walk_bicycle_still        1  trip_1.csv\n",
       "2                 car        2  trip_2.csv\n",
       "3                 car        3  trip_3.csv\n",
       "4                 car        4  trip_4.csv"
      ]
     },
     "execution_count": 29,
     "metadata": {},
     "output_type": "execute_result"
    }
   ],
   "source": [
    "trip_classes.head()"
   ]
  },
  {
   "cell_type": "code",
   "execution_count": null,
   "metadata": {},
   "outputs": [],
   "source": []
  },
  {
   "cell_type": "code",
   "execution_count": null,
   "metadata": {},
   "outputs": [],
   "source": []
  },
  {
   "cell_type": "markdown",
   "metadata": {},
   "source": [
    "## EDA"
   ]
  },
  {
   "cell_type": "code",
   "execution_count": 30,
   "metadata": {},
   "outputs": [],
   "source": [
    "## timestamp lengths per trip?\n",
    "## trip type value counts?\n",
    "# visualise a few examples?"
   ]
  },
  {
   "cell_type": "markdown",
   "metadata": {},
   "source": [
    "## Process Single Trip (Feature Engineering)"
   ]
  },
  {
   "cell_type": "code",
   "execution_count": null,
   "metadata": {},
   "outputs": [],
   "source": [
    "## remove nulls"
   ]
  },
  {
   "cell_type": "code",
   "execution_count": null,
   "metadata": {},
   "outputs": [],
   "source": [
    "## normalise timestamps?"
   ]
  },
  {
   "cell_type": "code",
   "execution_count": null,
   "metadata": {},
   "outputs": [],
   "source": [
    "## normalise out gravity direction?? e.g. do the rest on X/Y only?"
   ]
  },
  {
   "cell_type": "code",
   "execution_count": null,
   "metadata": {},
   "outputs": [],
   "source": [
    "## statistical features"
   ]
  },
  {
   "cell_type": "code",
   "execution_count": null,
   "metadata": {},
   "outputs": [],
   "source": [
    "## spectral features\n",
    "    ## moving timeframes (overlapping)\n",
    "    ## calc spectral metrics for each timeframe\n",
    "    ## summarise metrics across all timeframes"
   ]
  },
  {
   "cell_type": "code",
   "execution_count": null,
   "metadata": {},
   "outputs": [],
   "source": [
    "## time based features"
   ]
  },
  {
   "cell_type": "markdown",
   "metadata": {},
   "source": [
    "## Process All Trips"
   ]
  },
  {
   "cell_type": "code",
   "execution_count": null,
   "metadata": {},
   "outputs": [],
   "source": []
  },
  {
   "cell_type": "markdown",
   "metadata": {},
   "source": [
    "## Train Model"
   ]
  },
  {
   "cell_type": "code",
   "execution_count": null,
   "metadata": {},
   "outputs": [],
   "source": []
  },
  {
   "cell_type": "markdown",
   "metadata": {},
   "source": [
    "## Analysis"
   ]
  },
  {
   "cell_type": "code",
   "execution_count": null,
   "metadata": {},
   "outputs": [],
   "source": []
  },
  {
   "cell_type": "code",
   "execution_count": null,
   "metadata": {},
   "outputs": [],
   "source": []
  },
  {
   "cell_type": "code",
   "execution_count": null,
   "metadata": {},
   "outputs": [],
   "source": []
  },
  {
   "cell_type": "code",
   "execution_count": null,
   "metadata": {},
   "outputs": [],
   "source": []
  },
  {
   "cell_type": "code",
   "execution_count": null,
   "metadata": {},
   "outputs": [],
   "source": []
  }
 ],
 "metadata": {
  "kernelspec": {
   "display_name": "Python 3",
   "language": "python",
   "name": "python3"
  },
  "language_info": {
   "codemirror_mode": {
    "name": "ipython",
    "version": 3
   },
   "file_extension": ".py",
   "mimetype": "text/x-python",
   "name": "python",
   "nbconvert_exporter": "python",
   "pygments_lexer": "ipython3",
   "version": "3.7.6"
  }
 },
 "nbformat": 4,
 "nbformat_minor": 4
}
